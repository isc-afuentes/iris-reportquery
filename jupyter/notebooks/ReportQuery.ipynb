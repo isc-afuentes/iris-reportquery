{
 "cells": [
  {
   "cell_type": "code",
   "execution_count": 9,
   "id": "7837deca-2f2d-4bb7-b023-4c4c491e75f5",
   "metadata": {},
   "outputs": [],
   "source": [
    "import iris, irisnative\n",
    "import time, json\n",
    "import pandas as pd\n",
    "import numpy as np\n",
    "import matplotlib.pyplot as plt\n",
    "\n",
    "connection = iris.connect(\"iris:1972/USER\", \"_SYSTEM\", \"SYS\")\n",
    "irispy = irisnative.createIris(connection)"
   ]
  },
  {
   "cell_type": "code",
   "execution_count": 10,
   "id": "4e2d3dc9-cefd-422a-8394-abc45c852d0a",
   "metadata": {},
   "outputs": [
    {
     "data": {
      "text/plain": [
       "1"
      ]
     },
     "execution_count": 10,
     "metadata": {},
     "output_type": "execute_result"
    }
   ],
   "source": [
    "# invoke interactor\n",
    "interactor = irispy.classMethodObject(\"ReportQuery.interactors.QueryI\",\"%New\")\n",
    "queryDef = interactor.invoke(\"GetById\", 1)\n",
    "jsonQueryDef = iris.IRISReference(None);\n",
    "queryDef.invoke(\"%JSONExportToString\", jsonQueryDef)"
   ]
  },
  {
   "cell_type": "code",
   "execution_count": 11,
   "id": "9b6e88b0-ba36-4ee3-af35-80c1216d0280",
   "metadata": {},
   "outputs": [
    {
     "name": "stdout",
     "output_type": "stream",
     "text": [
      "{\n",
      "  \"Id\": \"1\",\n",
      "  \"Name\": \"List of persons by name\",\n",
      "  \"SqlQuery\": \"SELECT * FROM ReportQuery_test_data.Person\"\n",
      "}\n"
     ]
    }
   ],
   "source": [
    "# print interactor response (json)\n",
    "parsed = json.loads(jsonQueryDef.getValue())\n",
    "print(json.dumps(parsed, indent=2))"
   ]
  },
  {
   "cell_type": "code",
   "execution_count": null,
   "id": "25eba3ef-e20b-4b17-ad56-5700edd0dedc",
   "metadata": {},
   "outputs": [],
   "source": []
  }
 ],
 "metadata": {
  "kernelspec": {
   "display_name": "Python 3 (ipykernel)",
   "language": "python",
   "name": "python3"
  },
  "language_info": {
   "codemirror_mode": {
    "name": "ipython",
    "version": 3
   },
   "file_extension": ".py",
   "mimetype": "text/x-python",
   "name": "python",
   "nbconvert_exporter": "python",
   "pygments_lexer": "ipython3",
   "version": "3.11.4"
  }
 },
 "nbformat": 4,
 "nbformat_minor": 5
}
